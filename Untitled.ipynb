{
 "cells": [
  {
   "cell_type": "markdown",
   "id": "5cde010a-2b60-4a1b-8e7d-e6d124548240",
   "metadata": {},
   "source": [
    "# Project 4: Sentiment Analysis of Text\n",
    "\n",
    "This project involves building and evaluating deep learning models (RNNs or Transformers) for sentiment classification of text, such as movie reviews or product feedback."
   ]
  },
  {
   "cell_type": "markdown",
   "id": "5661f799-04cc-477d-a497-4267ff78d464",
   "metadata": {},
   "source": [
    "## Preliminaries"
   ]
  },
  {
   "cell_type": "code",
   "execution_count": 1,
   "id": "6f43da2d-8a7f-4a5e-bb61-ef186639d941",
   "metadata": {},
   "outputs": [],
   "source": [
    "!pip install wandb --quiet"
   ]
  },
  {
   "cell_type": "code",
   "execution_count": 2,
   "id": "e848d9e3-fc5a-47ff-b29c-037a079cb0b9",
   "metadata": {},
   "outputs": [],
   "source": [
    "# Core Python & Data Handling\n",
    "import os\n",
    "import pandas as pd\n",
    "from collections import defaultdict\n",
    "\n",
    "# PyTorch Core\n",
    "import torch\n",
    "import torch.nn as nn\n",
    "from torch.utils.data import Dataset, DataLoader\n",
    "from torch.nn.utils.rnn import pad_sequence, pack_padded_sequence\n",
    "\n",
    "# Optimizer\n",
    "import torch.optim as optim\n",
    "\n",
    "# For Reproducibility (optional but recommended)\n",
    "import random\n",
    "import numpy as np\n",
    "\n",
    " for progress bars\n",
    "from tqdm import tqdm"
   ]
  },
  {
   "cell_type": "code",
   "execution_count": 3,
   "id": "774877db-1d9a-4a1e-99fb-c0420aca9bf9",
   "metadata": {},
   "outputs": [
    {
     "name": "stdout",
     "output_type": "stream",
     "text": [
      "Device:  cpu\n"
     ]
    }
   ],
   "source": [
    "device = 'cuda' if torch.cuda.is_available() else 'cpu'\n",
    "print(\"Device: \", device)"
   ]
  },
  {
   "cell_type": "markdown",
   "id": "79038126-4c30-4196-ba85-82ee0f67ce48",
   "metadata": {},
   "source": [
    "# Download datasets"
   ]
  },
  {
   "cell_type": "code",
   "execution_count": 18,
   "id": "ac4e2cb1-a156-43d9-9b6c-8a13e216b5f0",
   "metadata": {},
   "outputs": [],
   "source": [
    "import zipfile\n",
    "from kaggle.api.kaggle_api_extended import KaggleApi"
   ]
  },
  {
   "cell_type": "code",
   "execution_count": 19,
   "id": "196c1cf7-c36d-49be-b168-204b1241eb1d",
   "metadata": {},
   "outputs": [],
   "source": [
    "# Setup\n",
    "os.environ['KAGGLE_CONFIG_DIR'] = os.getcwd()\n",
    "api = KaggleApi()\n",
    "api.authenticate()"
   ]
  },
  {
   "cell_type": "markdown",
   "id": "866fd423-fee5-45d3-b413-abe4b2e47180",
   "metadata": {},
   "source": [
    "## IMDb"
   ]
  },
  {
   "cell_type": "code",
   "execution_count": 30,
   "id": "35d20b5c-1361-42d1-99f1-8e2a6f01e206",
   "metadata": {},
   "outputs": [
    {
     "name": "stdout",
     "output_type": "stream",
     "text": [
      "Dataset URL: https://www.kaggle.com/datasets/lakshmi25npathi/imdb-dataset-of-50k-movie-reviews\n"
     ]
    }
   ],
   "source": [
    "dataset = 'lakshmi25npathi/imdb-dataset-of-50k-movie-reviews'\n",
    "api.dataset_download_files(dataset, path= 'IMDB', unzip=True)"
   ]
  },
  {
   "cell_type": "code",
   "execution_count": 31,
   "id": "484706c0-aec4-4a24-b160-e3f9ec385bd5",
   "metadata": {},
   "outputs": [
    {
     "name": "stdout",
     "output_type": "stream",
     "text": [
      "   label                                               text\n",
      "0      0  Watching Devil Inside for the 1st time tonight...\n",
      "1      0  @CMPunk Devil Inside , The exorcisism of Emily...\n",
      "2      0  Off to do my vlog. Watching Devil Inside and J...\n",
      "3      1  @raykipo take Silver at the Hib cup. Great day...\n",
      "4      0  @hollyhippo I'm going to blockbuster tomorrow ...\n"
     ]
    }
   ],
   "source": [
    "path = os.path.join(\"IMDB\", \"IMDB Dataset.csvv\")\n",
    "print(df.head())"
   ]
  },
  {
   "cell_type": "markdown",
   "id": "30c9adc7-b04c-4f0e-ae45-58ea584ea0fb",
   "metadata": {},
   "source": [
    "## SST-2"
   ]
  },
  {
   "cell_type": "code",
   "execution_count": 23,
   "id": "f4d87da9-537a-469a-b325-ebbeb897b1fb",
   "metadata": {},
   "outputs": [
    {
     "name": "stdout",
     "output_type": "stream",
     "text": [
      "Dataset URL: https://www.kaggle.com/datasets/jkhanbk1/sst2-dataset\n"
     ]
    }
   ],
   "source": [
    "dataset = 'jkhanbk1/sst2-dataset'\n",
    "api.dataset_download_files(dataset, path='.', unzip=True)"
   ]
  },
  {
   "cell_type": "code",
   "execution_count": 24,
   "id": "3385a644-5dd3-43a0-a092-3a170354e618",
   "metadata": {},
   "outputs": [
    {
     "name": "stdout",
     "output_type": "stream",
     "text": [
      "   label                                           sentence\n",
      "0      0        No movement, no yuks, not much of anything.\n",
      "1      0  A gob of drivel so sickly sweet, even the eage...\n",
      "2      0  Gangs of New York is an unapologetic mess, who...\n",
      "3      0  We never really feel involved with the story, ...\n",
      "4      1              This is one of Polanski's best films.\n"
     ]
    }
   ],
   "source": [
    "path = os.path.join(\"Finalv SST-2 dataset CSV format\", \"test.csv\")\n",
    "\n",
    "df = pd.read_csv(path)\n",
    "print(df.head())"
   ]
  },
  {
   "cell_type": "markdown",
   "id": "87a12905-6f2f-4b22-8863-7abd7180d155",
   "metadata": {},
   "source": [
    "## SemEval"
   ]
  },
  {
   "cell_type": "code",
   "execution_count": 26,
   "id": "93e6676e-96d2-496b-a485-7e80247812c5",
   "metadata": {},
   "outputs": [
    {
     "name": "stdout",
     "output_type": "stream",
     "text": [
      "Dataset URL: https://www.kaggle.com/datasets/azzouza2018/semevaldatadets\n"
     ]
    }
   ],
   "source": [
    "dataset = 'azzouza2018/semevaldatadets'\n",
    "api.dataset_download_files(dataset, path='semEval', unzip=True)"
   ]
  },
  {
   "cell_type": "code",
   "execution_count": 28,
   "id": "96f820f8-d28f-42a1-9faf-67ef913c9e95",
   "metadata": {},
   "outputs": [
    {
     "name": "stdout",
     "output_type": "stream",
     "text": [
      "   label                                               text\n",
      "0      0  Watching Devil Inside for the 1st time tonight...\n",
      "1      0  @CMPunk Devil Inside , The exorcisism of Emily...\n",
      "2      0  Off to do my vlog. Watching Devil Inside and J...\n",
      "3      1  @raykipo take Silver at the Hib cup. Great day...\n",
      "4      0  @hollyhippo I'm going to blockbuster tomorrow ...\n"
     ]
    }
   ],
   "source": [
    "path = os.path.join(\"semEval\", \"semeval-2013-dev.csv\")\n",
    "\n",
    "df = pd.read_csv(path,delimiter='\\t')\n",
    "print(df.head())"
   ]
  },
  {
   "cell_type": "code",
   "execution_count": null,
   "id": "a6a9b78e-8a1a-4978-930e-c147449fa459",
   "metadata": {},
   "outputs": [],
   "source": []
  }
 ],
 "metadata": {
  "kernelspec": {
   "display_name": "Python 3 (ipykernel)",
   "language": "python",
   "name": "python3"
  },
  "language_info": {
   "codemirror_mode": {
    "name": "ipython",
    "version": 3
   },
   "file_extension": ".py",
   "mimetype": "text/x-python",
   "name": "python",
   "nbconvert_exporter": "python",
   "pygments_lexer": "ipython3",
   "version": "3.9.21"
  }
 },
 "nbformat": 4,
 "nbformat_minor": 5
}
